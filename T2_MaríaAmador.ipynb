{
 "cells": [
  {
   "cell_type": "markdown",
   "metadata": {},
   "source": [
    "## [Programming language of the year? Python is standout in latest rankings](https://www.zdnet.com/article/programming-language-of-the-year-python-is-standout-in-latest-rankings/)\n",
    "En este artículo, se menciona que Python se ha posicionado en el top 3 de los lenguajes de programación más utilizados, entró entre los primeros en el índice de popularidad de Tiobe. Se menciona que Python es a menudo el primer lenguaje de programación que se enseña en las universidades y el lenguaje de preferencia para análisis estadísticos, <la programación de sitios web, entre otros.\n",
    "\n",
    "También, se meciona que es el lenguaje más popular para los hackers gracias a la facilidad de su sintaxis; el índice de Tiobe y otros rankings populares, recomiendan cuales son los lenguajes de programación en los que vale la pena invertir tiempo. Otro de los lenguajes que generó ganancias significativas fue MATLAB, el cual pasó de estar en la posición 18 a la posición 11, este dato en particular de MATLAB se me hizo algo curioso, ya que, es un lenguaje el cual está más enfocado en matrices y vectores. \n",
    "\n",
    "Es asombroso ver como el \"proyecto de Navidad\" del creador de Python, Guido van Rossum, se convirtión en un excelente lenguaje de programación por su sencillez y lo fácil que es poder manejarla. Sin darse cuenta, ha creado una comunidad grande de programadores que usan Python para resolver los problemas del día a día en ámbitos profesionales, en sitios web, aplicaciones e incluso videojuegos."
   ]
  },
  {
   "cell_type": "markdown",
   "metadata": {},
   "source": [
    "## [5 Reasons you should learn Python now](https://www.pluralsight.com/blog/software-development/why-python)\n",
    "Dicho artículo menciona que Python es útil porque es fácil de usar, potente y versátil, haciéndolo una excelente opción para principiantes. Menciona que en vez de enfocarte en como hacer que tu código funcione, serás capaz de enfocarte en verdaderamente aprender conceptos de programación y una vez que domines estas herramientas,  serás capazfácilmente de entender una parte de un código.\n",
    "\n",
    "Menciona que Google usa una combinación de lenguajes con C++ y Pyhton. Se utilizo Python para las partes que requerian una entrega y un mantenimiento rápido, mientras que C++ fue utilizado en las partes de software en donde era importante tener poca latencia o un estricto control de la memoria. Spotify utiliza más Java pero utiliza Python para cosas como su API Web y su consola API interactiva, el cual permite a los desarrolladores explorar con interfaces fáciles de usar. \n",
    "\n",
    "Es interesante ver como compañías grandes de entretenimiento como las que se mencionan en el artículo, a pesar de que utilizan varios lenguajes, Python también entra entre estos y se les da una aplicación específica a cada lenguaje. Definitivamente el complemento de varios lenguajes, ayuda a optimizar de una mejor manera tu producto o servicio que estes dando (en este caso servicio por ser plataformas de streaming)."
   ]
  }
 ],
 "metadata": {
  "kernelspec": {
   "display_name": "Python 3",
   "language": "python",
   "name": "python3"
  },
  "language_info": {
   "codemirror_mode": {
    "name": "ipython",
    "version": 3
   },
   "file_extension": ".py",
   "mimetype": "text/x-python",
   "name": "python",
   "nbconvert_exporter": "python",
   "pygments_lexer": "ipython3",
   "version": "3.8.3"
  }
 },
 "nbformat": 4,
 "nbformat_minor": 4
}
